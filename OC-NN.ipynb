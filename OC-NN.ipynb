{
 "cells": [
  {
   "cell_type": "code",
   "execution_count": 63,
   "metadata": {},
   "outputs": [],
   "source": [
    "import tensorflow as tf\n",
    "import pandas as pd\n",
    "from sklearn.preprocessing import StandardScaler\n",
    "from sklearn.preprocessing import MinMaxScaler\n",
    "import numpy as np\n",
    "AE_modelPath = \"models/ae_credit_16_notbest_noscaler.h5\"\n"
   ]
  },
  {
   "cell_type": "code",
   "execution_count": 64,
   "metadata": {},
   "outputs": [
    {
     "data": {
      "text/plain": [
       "'2.0.0'"
      ]
     },
     "execution_count": 64,
     "metadata": {},
     "output_type": "execute_result"
    }
   ],
   "source": [
    "tf.__version__"
   ]
  },
  {
   "cell_type": "code",
   "execution_count": 65,
   "metadata": {
    "collapsed": true,
    "jupyter": {
     "outputs_hidden": true
    }
   },
   "outputs": [],
   "source": [
    "def load_credit(dataPath):\n",
    "    credit = pd.read_csv(dataPath)\n",
    "    credit = credit.drop(['Time'], axis=1)\n",
    "    #credit['Amount'] = StandardScaler().fit_transform(credit['Amount'].values.reshape(-1,1))\n",
    "    #credit['Amount'] = MinMaxScaler().fit_transform(credit['Amount'].values.reshape(-1,1))\n",
    "    df_normal = credit[credit['Class'] == 0]\n",
    "    df_anomaly = credit[credit['Class'] == 1]\n",
    "    del df_normal['Class']\n",
    "    del df_anomaly['Class']\n",
    "\n",
    "    # DataFrame to Numpy Array\n",
    "    normal = df_normal.values\n",
    "    anomaly = df_anomaly.values\n",
    "\n",
    "    return [normal, anomaly]"
   ]
  },
  {
   "cell_type": "code",
   "execution_count": 66,
   "metadata": {
    "collapsed": true,
    "jupyter": {
     "outputs_hidden": true
    }
   },
   "outputs": [],
   "source": [
    "[x_normal, x_anomaly] = load_credit(\"creditcard.csv\")"
   ]
  },
  {
   "cell_type": "code",
   "execution_count": 79,
   "metadata": {},
   "outputs": [
    {
     "name": "stdout",
     "output_type": "stream",
     "text": [
      "WARNING:tensorflow:No training configuration found in save file: the model was *not* compiled. Compile it manually.\n"
     ]
    }
   ],
   "source": [
    "encoder = tf.keras.models.load_model(\"models/ae_credit_16_notbest_noscaler.h5\")"
   ]
  },
  {
   "cell_type": "code",
   "execution_count": 80,
   "metadata": {
    "collapsed": true,
    "jupyter": {
     "outputs_hidden": true
    }
   },
   "outputs": [],
   "source": [
    "#X_normal = encoder.predict(x_normal)\n",
    "#X_anomaly = encoder.predict(x_anomaly)\n",
    "X_normal = x_normal\n",
    "X_anomaly = x_anomaly\n",
    "x_size = X_normal.shape[1]\n",
    "h_size = 4\n",
    "y_size = 1\n",
    "D = x_size\n",
    "K = h_size\n",
    "#g = lambda x : relu(x)                # RELU\n",
    "g = lambda x: 1 / (1 + tf.exp(-x))    # Sigmoid\n",
    "#g = lambda x : x "
   ]
  },
  {
   "cell_type": "code",
   "execution_count": 81,
   "metadata": {
    "collapsed": true,
    "jupyter": {
     "outputs_hidden": true
    }
   },
   "outputs": [],
   "source": [
    "theta = np.random.normal(0, 1, K + K*D + 1)\n",
    "rvalue = np.random.normal(0, 1, (len(X_normal), y_size))\n",
    "nu = 0.04"
   ]
  },
  {
   "cell_type": "code",
   "execution_count": 82,
   "metadata": {
    "collapsed": true,
    "jupyter": {
     "outputs_hidden": true
    }
   },
   "outputs": [],
   "source": [
    "def init_weights(shape):\n",
    "    weights = tf.random_normal(shape, mean=0, stddev=0.00001)\n",
    "    return tf.Variable(weights)\n",
    "\n",
    "''' Forward Propagation '''\n",
    "def forwardprop(X, w_1, w_2):\n",
    "    X = tf.cast(X, tf.float32)\n",
    "    w_1 = tf.cast(w_1, tf.float32)\n",
    "    w_2 = tf.cast(w_2, tf.float32)\n",
    "    h = tf.nn.sigmoid(tf.matmul(X, w_1))\n",
    "    yhat = tf.matmul(h, w_2)\n",
    "    return yhat\n",
    "\n",
    "def nnScore(X, w, V, g):\n",
    "    X = tf.cast(X, tf.float32)\n",
    "    w = tf.cast(w, tf.float32)\n",
    "    V = tf.cast(V, tf.float32)\n",
    "    return tf.matmul(g((tf.matmul(X, w))), V)\n",
    "\n",
    "def relu(x):\n",
    "    y = x\n",
    "    return y\n",
    "\n",
    "def ocnn_obj(theta, X, nu, w1, w2, g, r):\n",
    "    X = tf.cast(X, tf.float32)\n",
    "    w = tf.cast(w1, tf.float32)\n",
    "    V = tf.cast(w2, tf.float32)\n",
    "\n",
    "    term1 = 0.5 * tf.reduce_sum(w**2)\n",
    "    term2 = 0.5 * tf.reduce_sum(V**2)\n",
    "    term3 = 1/nu * tf.reduce_mean(tf.nn.relu(r - nnScore(X, w, V, g)))\n",
    "    term4 = -r\n",
    "    return term1 + term2 + term3 + term4\n"
   ]
  },
  {
   "cell_type": "code",
   "execution_count": 88,
   "metadata": {
    "collapsed": true,
    "jupyter": {
     "outputs_hidden": true
    }
   },
   "outputs": [],
   "source": [
    "initial = tf.keras.initializers.RandomNormal(mean=0, stddev=0.00001)\n",
    "#initial = tf.keras.initializers.glorot_normal()"
   ]
  },
  {
   "cell_type": "code",
   "execution_count": 89,
   "metadata": {
    "collapsed": true,
    "jupyter": {
     "outputs_hidden": true
    }
   },
   "outputs": [],
   "source": [
    "W1 = tf.Variable(initial_value=initial((x_size,h_size), dtype=tf.float64), dtype=tf.float64)\n",
    "W2 = tf.Variable(initial_value=initial((h_size,y_size), dtype=tf.float64), dtype=tf.float64)"
   ]
  },
  {
   "cell_type": "code",
   "execution_count": 90,
   "metadata": {
    "collapsed": true,
    "jupyter": {
     "outputs_hidden": true
    }
   },
   "outputs": [],
   "source": [
    "trainable = [W1, W2]"
   ]
  },
  {
   "cell_type": "code",
   "execution_count": 91,
   "metadata": {
    "collapsed": true,
    "jupyter": {
     "outputs_hidden": true
    }
   },
   "outputs": [],
   "source": [
    "optimizer = tf.keras.optimizers.SGD(0.0001)"
   ]
  },
  {
   "cell_type": "code",
   "execution_count": 102,
   "metadata": {
    "scrolled": true
   },
   "outputs": [
    {
     "name": "stdout",
     "output_type": "stream",
     "text": [
      "Epoch = 1, r = 0.027193\n",
      "Epoch = 51, r = 0.032044\n",
      "Epoch = 101, r = 0.036870\n"
     ]
    }
   ],
   "source": [
    "num_epochs = 101\n",
    "rvalue = 0.1\n",
    "for epoch in range(num_epochs):\n",
    "\n",
    "    with tf.GradientTape() as tape:\n",
    "        #yhat = forwardprop(X_normal,W1,W2)\n",
    "        #predict = tf.argmax(yhat, axis=1)\n",
    "        \n",
    "        cost = ocnn_obj(theta, X_normal, nu, W1, W2, g, rvalue)\n",
    "        grad_value = tape.gradient(cost, trainable)\n",
    "    #rvalue = rvalue.eval()\n",
    "    optimizer.apply_gradients(zip(grad_value, trainable))\n",
    "    rvalue = nnScore(X_normal, W1, W2, g)\n",
    "    \n",
    "    \n",
    "    rvalue = np.percentile(rvalue, q=100*nu)\n",
    "\n",
    "\n",
    "\n",
    "    if epoch % 50 == 0:\n",
    "        print(\"Epoch = %d, r = %f\" % (epoch+1, rvalue))"
   ]
  },
  {
   "cell_type": "code",
   "execution_count": 103,
   "metadata": {
    "scrolled": true
   },
   "outputs": [
    {
     "name": "stdout",
     "output_type": "stream",
     "text": [
      "pos decisionScore\n",
      " tf.Tensor(\n",
      "[[2.8603449e-03]\n",
      " [3.4704804e-05]\n",
      " [7.1860813e-03]\n",
      " ...\n",
      " [1.2916140e-03]\n",
      " [1.7439947e-04]\n",
      " [4.1470863e-03]], shape=(284315, 1), dtype=float32)\n",
      "neg decisionScore\n",
      " tf.Tensor(\n",
      "[[-1.50091946e-05]\n",
      " [ 9.92739573e-03]\n",
      " [ 4.58461046e-03]\n",
      " [ 1.11940876e-03]\n",
      " [ 9.89809632e-06]\n",
      " [ 9.55536962e-06]\n",
      " [ 9.67830420e-06]\n",
      " [ 9.55536962e-06]\n",
      " [ 9.76771116e-06]\n",
      " [ 3.79607081e-06]\n",
      " [ 4.03821468e-06]\n",
      " [ 4.04193997e-06]\n",
      " [ 4.33251262e-06]\n",
      " [ 4.30271029e-06]\n",
      " [ 9.92417336e-06]\n",
      " [ 9.66712832e-06]\n",
      " [ 9.56282020e-06]\n",
      " [ 4.10899520e-06]\n",
      " [ 3.68431211e-06]\n",
      " [ 4.36976552e-06]\n",
      " [ 4.21702862e-06]\n",
      " [ 4.09036875e-06]\n",
      " [ 1.00284815e-05]\n",
      " [ 9.97260213e-06]\n",
      " [ 2.71892063e-02]\n",
      " [ 8.94069672e-06]\n",
      " [ 9.73045826e-06]\n",
      " [ 3.05846334e-06]\n",
      " [ 9.26107168e-06]\n",
      " [ 9.88319516e-06]\n",
      " [-1.53817236e-05]\n",
      " [ 5.70561737e-04]\n",
      " [ 3.43832746e-03]\n",
      " [ 9.38400626e-06]\n",
      " [ 3.44589353e-06]\n",
      " [ 9.74908471e-06]\n",
      " [ 9.87574458e-06]\n",
      " [ 1.00731850e-05]\n",
      " [ 2.03389674e-04]\n",
      " [ 5.74029982e-05]\n",
      " [ 5.74551523e-05]\n",
      " [ 5.91427088e-05]\n",
      " [ 1.02706254e-05]\n",
      " [ 1.40139349e-02]\n",
      " [ 2.07451321e-02]\n",
      " [ 9.77888703e-06]\n",
      " [ 3.61062959e-03]\n",
      " [ 8.71717930e-06]\n",
      " [ 8.78423452e-06]\n",
      " [ 8.98912549e-06]\n",
      " [ 9.19029117e-06]\n",
      " [ 9.39890742e-06]\n",
      " [ 9.60007310e-06]\n",
      " [ 9.80123878e-06]\n",
      " [ 1.00061297e-05]\n",
      " [ 1.02035701e-05]\n",
      " [ 4.56832349e-05]\n",
      " [ 1.91204995e-03]\n",
      " [ 1.91221759e-03]\n",
      " [ 1.91227347e-03]\n",
      " [ 5.81517816e-05]\n",
      " [ 1.91242620e-03]\n",
      " [ 1.91258639e-03]\n",
      " [ 1.91264600e-03]\n",
      " [ 1.91270187e-03]\n",
      " [ 1.91275775e-03]\n",
      " [ 1.91281363e-03]\n",
      " [ 1.91287324e-03]\n",
      " [ 1.91292912e-03]\n",
      " [ 1.91299245e-03]\n",
      " [ 1.91304460e-03]\n",
      " [ 1.91310421e-03]\n",
      " [ 1.91316009e-03]\n",
      " [ 4.33169305e-04]\n",
      " [ 1.91331282e-03]\n",
      " [ 1.34225748e-02]\n",
      " [ 1.91347674e-03]\n",
      " [ 1.91353261e-03]\n",
      " [ 1.91359594e-03]\n",
      " [ 1.91364810e-03]\n",
      " [ 1.91370770e-03]\n",
      " [ 3.88175249e-06]\n",
      " [ 3.72901559e-06]\n",
      " [ 3.56510282e-06]\n",
      " [ 5.64690679e-04]\n",
      " [ 2.00250372e-03]\n",
      " [-1.57766044e-05]\n",
      " [ 1.31922700e-02]\n",
      " [ 3.51775438e-04]\n",
      " [ 1.27293169e-05]\n",
      " [ 3.50486487e-04]\n",
      " [ 2.39597261e-03]\n",
      " [ 3.51376832e-04]\n",
      " [-1.25914812e-06]\n",
      " [ 1.15196407e-03]\n",
      " [ 1.29852444e-04]\n",
      " [ 2.48104334e-06]\n",
      " [ 1.58924609e-04]\n",
      " [ 7.11716712e-05]\n",
      " [ 2.60885805e-04]\n",
      " [ 2.13553384e-03]\n",
      " [ 2.13557109e-03]\n",
      " [ 2.19352543e-04]\n",
      " [ 1.41832568e-02]\n",
      " [ 5.03286719e-06]\n",
      " [ 9.94279981e-06]\n",
      " [ 9.53301787e-06]\n",
      " [ 9.12323594e-06]\n",
      " [-2.68593431e-06]\n",
      " [-7.82310963e-07]\n",
      " [ 2.14743614e-03]\n",
      " [ 5.56446612e-05]\n",
      " [ 6.47084787e-03]\n",
      " [ 1.68310478e-03]\n",
      " [ 8.52011144e-05]\n",
      " [ 1.58886239e-03]\n",
      " [ 2.01415271e-04]\n",
      " [ 1.13807619e-05]\n",
      " [ 1.68308616e-03]\n",
      " [ 5.66661358e-04]\n",
      " [ 8.66689160e-03]\n",
      " [-1.62161887e-05]\n",
      " [ 2.26112083e-03]\n",
      " [ 8.59774649e-04]\n",
      " [ 3.30929458e-03]\n",
      " [ 7.01669604e-04]\n",
      " [ 1.13181770e-03]\n",
      " [-3.42726707e-06]\n",
      " [ 1.71735883e-04]\n",
      " [ 6.40951097e-04]\n",
      " [ 5.21120802e-03]\n",
      " [ 2.03387439e-03]\n",
      " [ 6.92082942e-03]\n",
      " [ 7.43005425e-04]\n",
      " [ 1.02191046e-03]\n",
      " [ 3.29528004e-03]\n",
      " [ 1.46039613e-02]\n",
      " [ 1.91165879e-03]\n",
      " [ 2.67485157e-03]\n",
      " [ 2.42516398e-06]\n",
      " [ 2.64495611e-06]\n",
      " [ 9.27969813e-06]\n",
      " [ 1.00918114e-05]\n",
      " [ 3.11061740e-06]\n",
      " [ 1.20171346e-02]\n",
      " [ 3.90483811e-03]\n",
      " [ 1.67771801e-03]\n",
      " [ 4.61678952e-04]\n",
      " [ 2.59652734e-06]\n",
      " [ 2.42143869e-07]\n",
      " [ 3.20002437e-06]\n",
      " [ 2.02430785e-03]\n",
      " [ 2.85357237e-06]\n",
      " [ 2.95415521e-06]\n",
      " [ 2.74553895e-06]\n",
      " [ 2.90945172e-06]\n",
      " [-1.44168735e-06]\n",
      " [ 1.30675733e-04]\n",
      " [-1.74343586e-06]\n",
      " [-1.84029341e-06]\n",
      " [ 3.98688763e-03]\n",
      " [ 2.86474824e-06]\n",
      " [ 3.62832099e-04]\n",
      " [ 6.84190542e-03]\n",
      " [ 1.91191211e-03]\n",
      " [ 1.91207603e-03]\n",
      " [ 1.91213191e-03]\n",
      " [ 1.91218406e-03]\n",
      " [ 1.91224366e-03]\n",
      " [ 9.76383686e-03]\n",
      " [-1.06170774e-06]\n",
      " [-1.16601586e-06]\n",
      " [ 5.40539622e-06]\n",
      " [ 1.37355179e-04]\n",
      " [-1.60783529e-05]\n",
      " [ 2.14722380e-03]\n",
      " [ 4.99898568e-03]\n",
      " [ 1.76839530e-05]\n",
      " [ 2.19047070e-06]\n",
      " [-1.35228038e-06]\n",
      " [-3.16649675e-07]\n",
      " [ 2.49408185e-03]\n",
      " [ 5.94339520e-03]\n",
      " [ 3.26910615e-03]\n",
      " [ 2.93513387e-03]\n",
      " [ 1.27859414e-04]\n",
      " [ 4.64543700e-06]\n",
      " [ 8.06525350e-05]\n",
      " [-1.64769590e-05]\n",
      " [ 8.39440152e-03]\n",
      " [ 2.94297934e-06]\n",
      " [ 1.03786588e-05]\n",
      " [ 1.05798244e-05]\n",
      " [ 1.92299485e-05]\n",
      " [ 8.19005072e-05]\n",
      " [ 5.15362620e-03]\n",
      " [ 2.17660144e-03]\n",
      " [ 8.63980502e-04]\n",
      " [ 2.28731520e-02]\n",
      " [ 3.47141176e-04]\n",
      " [ 1.04386359e-04]\n",
      " [ 6.07512891e-03]\n",
      " [ 9.62056220e-05]\n",
      " [ 8.58828053e-03]\n",
      " [ 1.93764642e-03]\n",
      " [ 3.50486487e-04]\n",
      " [ 1.13084912e-04]\n",
      " [ 3.44305858e-03]\n",
      " [ 4.94346023e-06]\n",
      " [ 4.50760126e-06]\n",
      " [ 2.30209418e-02]\n",
      " [ 5.53323328e-03]\n",
      " [ 5.62321767e-03]\n",
      " [ 3.98233533e-06]\n",
      " [-1.48452818e-05]\n",
      " [-1.47707760e-05]\n",
      " [ 1.32467635e-02]\n",
      " [ 5.96854836e-04]\n",
      " [ 2.24510506e-02]\n",
      " [ 1.86930969e-03]\n",
      " [ 1.93782523e-03]\n",
      " [ 1.29278749e-04]\n",
      " [ 9.22125950e-03]\n",
      " [ 1.02837905e-02]\n",
      " [ 6.09331951e-03]\n",
      " [ 6.63846731e-06]\n",
      " [ 6.63846731e-06]\n",
      " [ 6.63846731e-06]\n",
      " [ 6.63846731e-06]\n",
      " [ 6.63846731e-06]\n",
      " [ 6.63846731e-06]\n",
      " [ 3.58644873e-04]\n",
      " [ 5.00679016e-06]\n",
      " [ 4.34508547e-03]\n",
      " [ 5.72465360e-05]\n",
      " [ 6.05883822e-03]\n",
      " [ 1.49634108e-02]\n",
      " [-1.72853470e-06]\n",
      " [ 8.06927308e-03]\n",
      " [ 4.56469879e-03]\n",
      " [ 8.49936157e-04]\n",
      " [ 3.00742686e-04]\n",
      " [ 1.46522745e-03]\n",
      " [ 5.93059883e-03]\n",
      " [ 5.64541668e-04]\n",
      " [ 5.59631735e-04]\n",
      " [ 2.37939879e-03]\n",
      " [ 1.90667436e-03]\n",
      " [ 1.90772116e-03]\n",
      " [ 4.20152023e-03]\n",
      " [ 4.86539304e-03]\n",
      " [ 4.99561429e-06]\n",
      " [ 4.89130616e-06]\n",
      " [ 4.96208668e-06]\n",
      " [ 5.11854887e-06]\n",
      " [ 2.46622786e-03]\n",
      " [ 4.99933958e-06]\n",
      " [ 4.84660268e-06]\n",
      " [ 4.91365790e-06]\n",
      " [ 2.04022974e-03]\n",
      " [ 1.13916397e-03]\n",
      " [-1.27218664e-05]\n",
      " [ 1.28973275e-04]\n",
      " [ 4.19095159e-06]\n",
      " [ 3.89665365e-06]\n",
      " [-1.40815973e-05]\n",
      " [-1.40815973e-05]\n",
      " [ 9.63053852e-03]\n",
      " [ 9.63053852e-03]\n",
      " [ 2.19080597e-04]\n",
      " [ 6.73544779e-03]\n",
      " [ 2.16253102e-05]\n",
      " [-1.48378313e-05]\n",
      " [-1.48378313e-05]\n",
      " [ 4.83275577e-03]\n",
      " [ 4.83275577e-03]\n",
      " [ 3.26335430e-06]\n",
      " [ 4.60103899e-03]\n",
      " [ 3.51294875e-06]\n",
      " [ 5.91420382e-03]\n",
      " [ 6.16548210e-03]\n",
      " [ 8.52464885e-03]\n",
      " [ 1.50396749e-02]\n",
      " [ 7.84918666e-06]\n",
      " [ 1.63890421e-04]\n",
      " [ 1.19660050e-04]\n",
      " [ 7.30019063e-04]\n",
      " [ 1.00078806e-03]\n",
      " [ 7.19726086e-06]\n",
      " [ 7.03707337e-06]\n",
      " [ 4.98854369e-03]\n",
      " [ 3.32634896e-04]\n",
      " [ 1.11979917e-02]\n",
      " [ 2.14576721e-06]\n",
      " [ 1.44771859e-03]\n",
      " [ 1.50226057e-04]\n",
      " [-1.39586627e-05]\n",
      " [ 8.50319862e-04]\n",
      " [ 8.50319862e-04]\n",
      " [ 6.02204353e-03]\n",
      " [ 6.02204353e-03]\n",
      " [ 4.00853902e-03]\n",
      " [ 1.48716196e-03]\n",
      " [ 1.48716196e-03]\n",
      " [ 3.60770896e-03]\n",
      " [ 3.60770896e-03]\n",
      " [ 5.69216907e-04]\n",
      " [ 5.69216907e-04]\n",
      " [ 1.98848918e-03]\n",
      " [ 1.98848918e-03]\n",
      " [ 1.31502748e-06]\n",
      " [ 2.90945172e-06]\n",
      " [ 7.14510679e-04]\n",
      " [ 1.85387209e-03]\n",
      " [ 2.04291195e-04]\n",
      " [ 8.59584659e-04]\n",
      " [ 9.13441181e-06]\n",
      " [ 9.13441181e-06]\n",
      " [ 9.13441181e-06]\n",
      " [ 9.13441181e-06]\n",
      " [ 4.67896461e-06]\n",
      " [ 6.34789467e-04]\n",
      " [ 1.06856637e-02]\n",
      " [ 1.90250576e-05]\n",
      " [ 1.87717378e-05]\n",
      " [ 3.50300223e-04]\n",
      " [ 6.34960830e-04]\n",
      " [ 1.91107392e-06]\n",
      " [ 1.54502690e-04]\n",
      " [ 1.75502151e-04]\n",
      " [ 3.38815153e-05]\n",
      " [ 8.20681453e-06]\n",
      " [ 3.79234552e-06]\n",
      " [ 8.42288136e-06]\n",
      " [ 6.67944551e-06]\n",
      " [ 3.70331109e-05]\n",
      " [ 2.82933190e-03]\n",
      " [-6.14300370e-06]\n",
      " [ 4.09238040e-04]\n",
      " [-1.32732093e-05]\n",
      " [ 1.98814645e-03]\n",
      " [ 3.11769545e-05]\n",
      " [-5.55813313e-06]\n",
      " [ 4.80189919e-06]\n",
      " [ 6.60117343e-03]\n",
      " [ 1.30131841e-04]\n",
      " [-1.29677355e-05]\n",
      " [-1.26622617e-05]\n",
      " [ 2.29272619e-03]\n",
      " [ 2.75112689e-05]\n",
      " [-1.25765800e-05]\n",
      " [ 3.56392935e-03]\n",
      " [ 3.63960862e-06]\n",
      " [-6.85453415e-07]\n",
      " [ 1.52866170e-03]\n",
      " [ 1.17956661e-02]\n",
      " [ 3.11005861e-04]\n",
      " [ 1.23663619e-03]\n",
      " [ 2.02808529e-03]\n",
      " [ 2.02824548e-03]\n",
      " [ 2.76654586e-03]\n",
      " [ 2.96393596e-02]\n",
      " [ 1.93964690e-04]\n",
      " [ 8.61760229e-04]\n",
      " [ 7.53995031e-04]\n",
      " [ 4.86932695e-05]\n",
      " [-9.90927219e-06]\n",
      " [ 4.66007739e-04]\n",
      " [ 1.29388645e-03]\n",
      " [ 1.78293139e-03]\n",
      " [ 3.32295895e-06]\n",
      " [ 3.36696953e-03]\n",
      " [ 1.32547431e-02]\n",
      " [ 1.22919679e-04]\n",
      " [ 8.25114548e-05]\n",
      " [ 1.54389814e-03]\n",
      " [-9.91299748e-06]\n",
      " [ 2.43410468e-05]\n",
      " [ 6.76140189e-06]\n",
      " [ 6.89365342e-03]\n",
      " [ 5.27077168e-03]\n",
      " [ 1.32975988e-02]\n",
      " [ 9.06118378e-03]\n",
      " [ 8.92207026e-06]\n",
      " [ 2.22170874e-02]\n",
      " [-9.84594226e-06]\n",
      " [ 2.49057636e-03]\n",
      " [ 6.63474202e-06]\n",
      " [ 1.65486336e-02]\n",
      " [-9.89064574e-06]\n",
      " [ 6.56319782e-03]\n",
      " [ 2.07294896e-03]\n",
      " [ 1.60617381e-03]\n",
      " [ 7.43787736e-04]\n",
      " [-1.65365636e-05]\n",
      " [ 1.33744441e-02]\n",
      " [ 4.17407602e-04]\n",
      " [ 1.44425780e-04]\n",
      " [ 2.30481848e-03]\n",
      " [-3.65823507e-06]\n",
      " [ 1.32954754e-02]\n",
      " [ 5.47990203e-06]\n",
      " [ 1.10570975e-02]\n",
      " [ 3.73884663e-03]\n",
      " [ 7.01509416e-05]\n",
      " [ 1.60187483e-06]\n",
      " [ 6.18372485e-03]\n",
      " [ 6.09622896e-03]\n",
      " [ 2.55815685e-05]\n",
      " [ 2.76785716e-03]\n",
      " [-1.48937106e-05]\n",
      " [ 6.62356615e-06]\n",
      " [ 6.49318099e-06]\n",
      " [ 1.55098736e-04]\n",
      " [ 6.40377402e-06]\n",
      " [ 1.23537146e-02]\n",
      " [-1.56648457e-05]\n",
      " [ 1.11572444e-05]\n",
      " [ 3.16463411e-05]\n",
      " [ 4.89503145e-06]\n",
      " [ 1.81186944e-03]\n",
      " [ 1.38681382e-04]\n",
      " [ 1.76200718e-02]\n",
      " [-1.00806355e-05]\n",
      " [ 1.93528831e-05]\n",
      " [ 1.93528831e-05]\n",
      " [-1.06208026e-05]\n",
      " [-4.84287739e-08]\n",
      " [ 3.72529030e-07]\n",
      " [ 2.34770775e-03]\n",
      " [-9.83476639e-06]\n",
      " [ 6.94766641e-06]\n",
      " [ 5.90831041e-06]\n",
      " [ 2.44192779e-05]\n",
      " [ 3.21108848e-04]\n",
      " [ 9.47333872e-04]\n",
      " [ 4.53125313e-03]\n",
      " [ 6.05732203e-06]\n",
      " [ 1.64847821e-04]\n",
      " [ 1.90667808e-04]\n",
      " [-1.48005784e-05]\n",
      " [ 1.09782815e-03]\n",
      " [ 8.15466046e-06]\n",
      " [ 8.30367208e-06]\n",
      " [ 8.50483775e-06]\n",
      " [ 8.70972872e-06]\n",
      " [ 8.91089439e-06]\n",
      " [ 3.26111913e-05]\n",
      " [ 6.80411980e-03]\n",
      " [ 4.73600626e-03]\n",
      " [ 9.75318253e-04]\n",
      " [-1.00024045e-05]\n",
      " [-1.11758709e-08]\n",
      " [ 2.41892450e-02]\n",
      " [ 1.90770067e-02]\n",
      " [ 6.57670200e-04]\n",
      " [ 1.18058175e-04]\n",
      " [ 5.00306487e-06]\n",
      " [ 5.26756048e-06]\n",
      " [ 5.46500087e-06]\n",
      " [ 6.16945326e-05]\n",
      " [ 4.74490225e-05]\n",
      " [ 1.23228878e-04]\n",
      " [ 1.81170180e-03]\n",
      " [ 5.11854887e-06]\n",
      " [ 5.10737300e-06]\n",
      " [ 3.57861444e-03]\n",
      " [ 1.31417066e-04]\n",
      " [ 8.41729343e-05]\n",
      " [ 5.08502126e-06]\n",
      " [ 5.64312562e-03]\n",
      " [ 8.64583999e-04]\n",
      " [ 7.91437924e-05]\n",
      " [ 2.98449770e-03]\n",
      " [ 7.87973404e-05]\n",
      " [ 4.87267971e-06]\n",
      " [ 4.14997339e-06]\n",
      " [ 5.10737300e-06]\n",
      " [ 2.43015587e-03]\n",
      " [-6.95884228e-06]\n",
      " [ 7.53249973e-04]\n",
      " [ 2.23852694e-04]\n",
      " [-1.61677599e-05]\n",
      " [ 7.53995031e-04]\n",
      " [ 1.17807724e-02]\n",
      " [ 3.66516411e-04]\n",
      " [ 6.64052740e-03]\n",
      " [ 7.39965960e-03]\n",
      " [-2.42143869e-07]\n",
      " [ 1.48352981e-03]\n",
      " [ 4.68152016e-03]\n",
      " [ 8.03720206e-04]], shape=(492, 1), dtype=float32)\n"
     ]
    }
   ],
   "source": [
    "train = nnScore(X_normal, W1, W2, g)\n",
    "test = nnScore(X_anomaly, W1, W2, g)\n",
    "\n",
    "rstar = rvalue\n",
    "\n",
    "pos_decisionScore = train - rstar\n",
    "neg_decisionScore = test - rstar\n",
    "\n",
    "print(\"pos decisionScore\\n\", pos_decisionScore)\n",
    "print(\"neg decisionScore\\n\", neg_decisionScore)"
   ]
  },
  {
   "cell_type": "code",
   "execution_count": 14,
   "metadata": {},
   "outputs": [
    {
     "data": {
      "text/plain": [
       "340.1719970703125"
      ]
     },
     "execution_count": 14,
     "metadata": {},
     "output_type": "execute_result"
    }
   ],
   "source": [
    "rvalue"
   ]
  },
  {
   "cell_type": "code",
   "execution_count": 125,
   "metadata": {},
   "outputs": [
    {
     "name": "stdout",
     "output_type": "stream",
     "text": [
      "Normal Data :  284315\n",
      "Normal - Detect Anomaly :  3902\n",
      "Anomaly Data :  492\n",
      "Anomaly - Detect Anomaly :  155\n"
     ]
    }
   ],
   "source": [
    "threshold = -0.5\n",
    "\n",
    "print(\"Normal Data : \", len(pos_decisionScore))\n",
    "print(\"Normal - Detect Anomaly : \", np.sum(pos_decisionScore < threshold))\n",
    "print(\"Anomaly Data : \", len(neg_decisionScore))\n",
    "print(\"Anomaly - Detect Anomaly : \", np.sum(neg_decisionScore < threshold))"
   ]
  },
  {
   "cell_type": "code",
   "execution_count": 62,
   "metadata": {},
   "outputs": [
    {
     "name": "stdout",
     "output_type": "stream",
     "text": [
      "Normal Data :  284315\n",
      "Normal - Detect Anomaly :  19553\n",
      "Anomaly Data :  492\n",
      "Anomaly - Detect Anomaly :  360\n"
     ]
    }
   ],
   "source": [
    "#minmax\n",
    "#epoch300\n",
    "#threshold = 1\n",
    "threshold = 1\n",
    "\n",
    "\n",
    "print(\"Normal Data : \", len(pos_decisionScore))\n",
    "print(\"Normal - Detect Anomaly : \", np.sum(pos_decisionScore < threshold))\n",
    "print(\"Anomaly Data : \", len(neg_decisionScore))\n",
    "print(\"Anomaly - Detect Anomaly : \", np.sum(neg_decisionScore < threshold))"
   ]
  },
  {
   "cell_type": "code",
   "execution_count": 104,
   "metadata": {},
   "outputs": [
    {
     "name": "stdout",
     "output_type": "stream",
     "text": [
      "Normal Data :  284315\n",
      "Normal - Detect Anomaly :  73607\n",
      "Anomaly Data :  492\n",
      "Anomaly - Detect Anomaly :  225\n"
     ]
    }
   ],
   "source": [
    "#noscaler\n",
    "#epoch300\n",
    "#threshold = 1\n",
    "threshold = 0.0001\n",
    "\n",
    "\n",
    "print(\"Normal Data : \", len(pos_decisionScore))\n",
    "print(\"Normal - Detect Anomaly : \", np.sum(pos_decisionScore < threshold))\n",
    "print(\"Anomaly Data : \", len(neg_decisionScore))\n",
    "print(\"Anomaly - Detect Anomaly : \", np.sum(neg_decisionScore < threshold))"
   ]
  },
  {
   "cell_type": "code",
   "execution_count": 128,
   "metadata": {
    "scrolled": true
   },
   "outputs": [
    {
     "data": {
      "text/plain": [
       "<tf.Tensor: id=256571, shape=(284315, 1), dtype=float32, numpy=\n",
       "array([[2.8582764],\n",
       "       [0.7636719],\n",
       "       [4.217407 ],\n",
       "       ...,\n",
       "       [2.0566711],\n",
       "       [2.00885  ],\n",
       "       [4.261688 ]], dtype=float32)>"
      ]
     },
     "execution_count": 128,
     "metadata": {},
     "output_type": "execute_result"
    }
   ],
   "source": [
    "pos_decisionScore"
   ]
  },
  {
   "cell_type": "code",
   "execution_count": null,
   "metadata": {
    "collapsed": true,
    "jupyter": {
     "outputs_hidden": true
    }
   },
   "outputs": [],
   "source": []
  },
  {
   "cell_type": "code",
   "execution_count": null,
   "metadata": {
    "collapsed": true,
    "jupyter": {
     "outputs_hidden": true
    }
   },
   "outputs": [],
   "source": []
  },
  {
   "cell_type": "code",
   "execution_count": null,
   "metadata": {
    "collapsed": true,
    "jupyter": {
     "outputs_hidden": true
    }
   },
   "outputs": [],
   "source": []
  },
  {
   "cell_type": "code",
   "execution_count": null,
   "metadata": {
    "collapsed": true,
    "jupyter": {
     "outputs_hidden": true
    }
   },
   "outputs": [],
   "source": []
  },
  {
   "cell_type": "code",
   "execution_count": null,
   "metadata": {
    "collapsed": true,
    "jupyter": {
     "outputs_hidden": true
    }
   },
   "outputs": [],
   "source": []
  },
  {
   "cell_type": "code",
   "execution_count": null,
   "metadata": {
    "collapsed": true,
    "jupyter": {
     "outputs_hidden": true
    }
   },
   "outputs": [],
   "source": []
  },
  {
   "cell_type": "code",
   "execution_count": null,
   "metadata": {
    "collapsed": true,
    "jupyter": {
     "outputs_hidden": true
    }
   },
   "outputs": [],
   "source": []
  }
 ],
 "metadata": {
  "kernelspec": {
   "display_name": "Python 3",
   "language": "python",
   "name": "python3"
  },
  "language_info": {
   "codemirror_mode": {
    "name": "ipython",
    "version": 3
   },
   "file_extension": ".py",
   "mimetype": "text/x-python",
   "name": "python",
   "nbconvert_exporter": "python",
   "pygments_lexer": "ipython3",
   "version": "3.7.4"
  }
 },
 "nbformat": 4,
 "nbformat_minor": 4
}
