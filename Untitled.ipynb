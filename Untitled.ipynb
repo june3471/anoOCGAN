{
 "cells": [
  {
   "cell_type": "code",
   "execution_count": 127,
   "metadata": {},
   "outputs": [],
   "source": [
    "import pandas as pd\n",
    "import tensorflow as tf\n",
    "from tensorflow.keras import Sequential\n",
    "from tensorflow.keras.layers import Dense, LeakyReLU, Reshape, Conv1D, UpSampling1D, Flatten, Dropout"
   ]
  },
  {
   "cell_type": "code",
   "execution_count": 2,
   "metadata": {},
   "outputs": [],
   "source": [
    "data = pd.read_csv(\"data/creditcard.csv\")"
   ]
  },
  {
   "cell_type": "code",
   "execution_count": 118,
   "metadata": {},
   "outputs": [
    {
     "data": {
      "text/plain": [
       "284807"
      ]
     },
     "execution_count": 118,
     "metadata": {},
     "output_type": "execute_result"
    }
   ],
   "source": [
    "data[\"Amount\"].count()"
   ]
  },
  {
   "cell_type": "code",
   "execution_count": 121,
   "metadata": {},
   "outputs": [
    {
     "data": {
      "text/plain": [
       "676"
      ]
     },
     "execution_count": 121,
     "metadata": {},
     "output_type": "execute_result"
    }
   ],
   "source": [
    "data[\"Amount\"][data[\"Amount\"]>2000].count()"
   ]
  },
  {
   "cell_type": "code",
   "execution_count": 128,
   "metadata": {},
   "outputs": [],
   "source": [
    "g_model = Sequential()"
   ]
  },
  {
   "cell_type": "code",
   "execution_count": 125,
   "metadata": {},
   "outputs": [],
   "source": [
    "#1. data min max scaler\n",
    "#2. add embedding for amount feature\n",
    "#...\n",
    "class AnoOCGAN:\n",
    "    \n",
    "    def __init__(self, noise_size):\n",
    "        self.noise_size = noise_size\n",
    "        \n",
    "    def build_g(self):\n",
    "        g_model = Sequential()\n",
    "        g_model.add(Dense(896,kernel_initializer=tf.keras.initializers.glorot_normal()))\n",
    "        g_model.add(LeakyReLU(0.2))\n",
    "        g_model.add(Reshape((7,128)))\n",
    "        g_model.add(UpSampling1D(size=2))\n",
    "        g_model.add(Conv1D(64,5, padding=\"same\"))\n",
    "        g_model.add(LeakyReLU(0.2))\n",
    "        g_model.add(UpSampling1D(size=2))\n",
    "        g_model.add(Conv1D(1, 5, padding=\"same\"))\n",
    "        g_model.add(Flatten())\n",
    "        \n",
    "        \n",
    "        #inputs = tf.keras.Input(self.noise_size, name=\"g_input\")\n",
    "        #dense1 = tf.keras.layers.Dense(896,kernel_initializer=tf.keras.initializers.RandomNormal(stddev=0.02))(inputs)\n",
    "        #lrelu1 = tf.keras.layers.LeakyReLU(0.2)(dense1)\n",
    "        #reshape1 = tf.keras.layers.Reshape((7,128))(lrelu1)\n",
    "        #upsampling1 = tf.keras.layers.UpSampling1D(size=2)(reshape1)\n",
    "        #conv1 = tf.keras.layers.Conv1D(64,5, padding=\"same\")(upsampling1)\n",
    "        #lrelu2 = tf.keras.layers.LeakyReLU(0.2)(conv1)\n",
    "        #upsampling2 = tf.keras.layers.UpSampling1D(size=2)(lrelu2)\n",
    "        #conv2 = tf.keras.layers.Conv1D(1, 5, padding=\"same\")(upsampling2)\n",
    "        #out = tf.keras.layers.Flatten()(conv2)\n",
    "        #model = tf.keras.Model(inputs = inputs, outputs = out)\n",
    "        \n",
    "        return g_model\n",
    "    \n",
    "    def build_d(self):\n",
    "        d_model = Sequential()\n",
    "        d_model.add(Reshape((28,1)))\n",
    "        d_model.add(Conv1D(64,5, strides=2, padding=\"same\"))\n",
    "        d_model.add(LeakyReLU(0.2))\n",
    "        d_model.add(Dropout(0.3))\n",
    "        d_model.add(Conv1D(128, 5, strides=2, padding=\"same\"))\n",
    "        d_model.add(LeakyReLU(0.2))\n",
    "        d_model.add(Dropout(0.3))\n",
    "        d_model.add(Flatten())\n",
    "        d_model.add(Dense(1, activation=\"sigmoid\"))\n",
    "        \n",
    "        \n",
    "        #inputs = tf.keras.Input((28), name=\"d_input\")\n",
    "        #reshape1 = tf.keras.layers.Reshape((28,1))(inputs)\n",
    "        #conv1 = tf.keras.layers.Conv1D(64,5, strides=2, padding=\"same\")(reshape1)\n",
    "        #lrelu1 = tf.keras.layers.LeakyReLU(0.2)(conv1)\n",
    "        #drop1 = tf.keras.layers.Dropout(0.3)(lrelu1)\n",
    "        #conv2 = tf.keras.layers.Conv1D(128, 5, strides=2, padding=\"same\")(drop1)\n",
    "        #lrelu2 = tf.keras.layers.LeakyReLU(0.2)(conv2)\n",
    "        #drop2 = tf.keras.layers.Dropout(0.3)(lrelu2)\n",
    "        #flat = tf.keras.layers.Flatten()(drop2)\n",
    "        #out = tf.keras.layers.Dense(1)(flat)\n",
    "        #model = tf.keras.Model(inputs = inputs, outputs = out)\n",
    "        \n",
    "        return d_model\n",
    "    \n",
    "    def build_d_and_g(self):\n",
    "        \n",
    "        g_model = self.build_g()\n",
    "        #g_model.compile(loss='binary_crossentropy', optimizer='adam')\n",
    "        d_model = self.build_d()\n",
    "        #d_model.compile(loss='binary_crossentropy', optimizer='adam')\n",
    "        \n",
    "        \n",
    "        d_and_g_model = tf.keras.Sequential()\n",
    "        d_and_g_model.add(g_model)\n",
    "        d_and_g_model.add(d_model)\n",
    "        \n",
    "        \n",
    "        return d_and_g_model\n",
    "                      \n",
    "    def train_gan_model(self):\n",
    "        d_g = self.build_d_and_g()\n",
    "        d = tf.keras.Model(inputs = d_g.layers[0].layers[0], ouputs = d_g.layers[0].layers[-1])\n",
    "        \n",
    "        \n",
    "        "
   ]
  },
  {
   "cell_type": "code",
   "execution_count": 88,
   "metadata": {},
   "outputs": [],
   "source": [
    "def build_g():\n",
    "    inputs = tf.keras.Input(100, name=\"g_input\")\n",
    "    dense1 = tf.keras.layers.Dense(896,kernel_initializer=tf.keras.initializers.RandomNormal(stddev=0.02))(inputs)\n",
    "    lrelu1 = tf.keras.layers.LeakyReLU(0.2)(dense1)\n",
    "    reshape1 = tf.keras.layers.Reshape((7,128))(lrelu1)\n",
    "    upsampling1 = tf.keras.layers.UpSampling1D(size=2)(reshape1)\n",
    "    conv1 = tf.keras.layers.Conv1D(64,5, padding=\"same\")(upsampling1)\n",
    "    lrelu2 = tf.keras.layers.LeakyReLU(0.2)(conv1)\n",
    "    upsampling2 = tf.keras.layers.UpSampling1D(size=2)(lrelu2)\n",
    "    conv2 = tf.keras.layers.Conv1D(1, 5, padding=\"same\")(upsampling2)\n",
    "    out = tf.keras.layers.Flatten()(conv2)\n",
    "    model = tf.keras.Model(inputs = inputs, outputs = out)\n",
    "\n",
    "    return model\n",
    "\n",
    "def build_d():\n",
    "    inputs = tf.keras.Input((28), name=\"d_input\")\n",
    "    reshape1 = tf.keras.layers.Reshape((28,1))(inputs)\n",
    "    conv1 = tf.keras.layers.Conv1D(64,5, strides=2, padding=\"same\")(reshape1)\n",
    "    lrelu1 = tf.keras.layers.LeakyReLU(0.2)(conv1)\n",
    "    drop1 = tf.keras.layers.Dropout(0.3)(lrelu1)\n",
    "    conv2 = tf.keras.layers.Conv1D(128, 5, strides=2, padding=\"same\")(drop1)\n",
    "    lrelu2 = tf.keras.layers.LeakyReLU(0.2)(conv2)\n",
    "    drop2 = tf.keras.layers.Dropout(0.3)(lrelu2)\n",
    "    flat = tf.keras.layers.Flatten()(drop2)\n",
    "    out = tf.keras.layers.Dense(1)(flat)\n",
    "    model = tf.keras.Model(inputs = inputs, outputs = out)\n",
    "\n",
    "    return model\n",
    "\n",
    "def build_d_and_g():\n",
    "\n",
    "    g_model = build_g()\n",
    "    #g_model.compile(loss='binary_crossentropy', optimizer='adam')\n",
    "    d_model = build_d()\n",
    "    #d_model.compile(loss='binary_crossentropy', optimizer='adam')\n",
    "\n",
    "\n",
    "    d_and_g_model = tf.keras.Sequential()\n",
    "    d_and_g_model.add(g_model)\n",
    "    d_and_g_model.add(d_model)\n",
    "\n",
    "\n",
    "    return d_and_g_model\n",
    "\n"
   ]
  },
  {
   "cell_type": "code",
   "execution_count": 89,
   "metadata": {},
   "outputs": [],
   "source": [
    "d_g = build_d_and_g()"
   ]
  },
  {
   "cell_type": "code",
   "execution_count": 98,
   "metadata": {},
   "outputs": [
    {
     "data": {
      "text/plain": [
       "<tf.Tensor 'input_1:0' shape=(None, 1) dtype=float32>"
      ]
     },
     "execution_count": 98,
     "metadata": {},
     "output_type": "execute_result"
    }
   ],
   "source": [
    "tf.keras.layers.Input(1)"
   ]
  },
  {
   "cell_type": "code",
   "execution_count": 108,
   "metadata": {},
   "outputs": [
    {
     "data": {
      "text/plain": [
       "<tf.Tensor 'g_input_25:0' shape=(None, 100) dtype=float32>"
      ]
     },
     "execution_count": 108,
     "metadata": {},
     "output_type": "execute_result"
    }
   ],
   "source": [
    "d_g.layers[0].input"
   ]
  },
  {
   "cell_type": "code",
   "execution_count": 110,
   "metadata": {},
   "outputs": [
    {
     "ename": "TypeError",
     "evalue": "('Keyword argument not understood:', 'inputs')",
     "output_type": "error",
     "traceback": [
      "\u001b[0;31m---------------------------------------------------------------------------\u001b[0m",
      "\u001b[0;31mTypeError\u001b[0m                                 Traceback (most recent call last)",
      "\u001b[0;32m<ipython-input-110-ddbe6846a17f>\u001b[0m in \u001b[0;36m<module>\u001b[0;34m\u001b[0m\n\u001b[0;32m----> 1\u001b[0;31m \u001b[0md\u001b[0m \u001b[0;34m=\u001b[0m \u001b[0mtf\u001b[0m\u001b[0;34m.\u001b[0m\u001b[0mkeras\u001b[0m\u001b[0;34m.\u001b[0m\u001b[0mModel\u001b[0m\u001b[0;34m(\u001b[0m\u001b[0minputs\u001b[0m \u001b[0;34m=\u001b[0m \u001b[0md_g\u001b[0m\u001b[0;34m.\u001b[0m\u001b[0mlayers\u001b[0m\u001b[0;34m[\u001b[0m\u001b[0;36m0\u001b[0m\u001b[0;34m]\u001b[0m\u001b[0;34m.\u001b[0m\u001b[0minput\u001b[0m\u001b[0;34m,\u001b[0m \u001b[0mouputs\u001b[0m \u001b[0;34m=\u001b[0m \u001b[0md_g\u001b[0m\u001b[0;34m.\u001b[0m\u001b[0mlayers\u001b[0m\u001b[0;34m[\u001b[0m\u001b[0;36m0\u001b[0m\u001b[0;34m]\u001b[0m\u001b[0;34m.\u001b[0m\u001b[0mlayers\u001b[0m\u001b[0;34m[\u001b[0m\u001b[0;34m-\u001b[0m\u001b[0;36m1\u001b[0m\u001b[0;34m]\u001b[0m\u001b[0;34m)\u001b[0m\u001b[0;34m\u001b[0m\u001b[0;34m\u001b[0m\u001b[0m\n\u001b[0m",
      "\u001b[0;32m/opt/conda/lib/python3.7/site-packages/tensorflow_core/python/keras/engine/training.py\u001b[0m in \u001b[0;36m__init__\u001b[0;34m(self, *args, **kwargs)\u001b[0m\n\u001b[1;32m    144\u001b[0m \u001b[0;34m\u001b[0m\u001b[0m\n\u001b[1;32m    145\u001b[0m   \u001b[0;32mdef\u001b[0m \u001b[0m__init__\u001b[0m\u001b[0;34m(\u001b[0m\u001b[0mself\u001b[0m\u001b[0;34m,\u001b[0m \u001b[0;34m*\u001b[0m\u001b[0margs\u001b[0m\u001b[0;34m,\u001b[0m \u001b[0;34m**\u001b[0m\u001b[0mkwargs\u001b[0m\u001b[0;34m)\u001b[0m\u001b[0;34m:\u001b[0m\u001b[0;34m\u001b[0m\u001b[0;34m\u001b[0m\u001b[0m\n\u001b[0;32m--> 146\u001b[0;31m     \u001b[0msuper\u001b[0m\u001b[0;34m(\u001b[0m\u001b[0mModel\u001b[0m\u001b[0;34m,\u001b[0m \u001b[0mself\u001b[0m\u001b[0;34m)\u001b[0m\u001b[0;34m.\u001b[0m\u001b[0m__init__\u001b[0m\u001b[0;34m(\u001b[0m\u001b[0;34m*\u001b[0m\u001b[0margs\u001b[0m\u001b[0;34m,\u001b[0m \u001b[0;34m**\u001b[0m\u001b[0mkwargs\u001b[0m\u001b[0;34m)\u001b[0m\u001b[0;34m\u001b[0m\u001b[0;34m\u001b[0m\u001b[0m\n\u001b[0m\u001b[1;32m    147\u001b[0m     \u001b[0m_keras_api_gauge\u001b[0m\u001b[0;34m.\u001b[0m\u001b[0mget_cell\u001b[0m\u001b[0;34m(\u001b[0m\u001b[0;34m'model'\u001b[0m\u001b[0;34m)\u001b[0m\u001b[0;34m.\u001b[0m\u001b[0mset\u001b[0m\u001b[0;34m(\u001b[0m\u001b[0;32mTrue\u001b[0m\u001b[0;34m)\u001b[0m\u001b[0;34m\u001b[0m\u001b[0;34m\u001b[0m\u001b[0m\n\u001b[1;32m    148\u001b[0m     \u001b[0;31m# initializing _distribution_strategy here since it is possible to call\u001b[0m\u001b[0;34m\u001b[0m\u001b[0;34m\u001b[0m\u001b[0;34m\u001b[0m\u001b[0m\n",
      "\u001b[0;32m/opt/conda/lib/python3.7/site-packages/tensorflow_core/python/keras/engine/network.py\u001b[0m in \u001b[0;36m__init__\u001b[0;34m(self, *args, **kwargs)\u001b[0m\n\u001b[1;32m    168\u001b[0m     \u001b[0;32melse\u001b[0m\u001b[0;34m:\u001b[0m\u001b[0;34m\u001b[0m\u001b[0;34m\u001b[0m\u001b[0m\n\u001b[1;32m    169\u001b[0m       \u001b[0;31m# Subclassed network\u001b[0m\u001b[0;34m\u001b[0m\u001b[0;34m\u001b[0m\u001b[0;34m\u001b[0m\u001b[0m\n\u001b[0;32m--> 170\u001b[0;31m       \u001b[0mself\u001b[0m\u001b[0;34m.\u001b[0m\u001b[0m_init_subclassed_network\u001b[0m\u001b[0;34m(\u001b[0m\u001b[0;34m**\u001b[0m\u001b[0mkwargs\u001b[0m\u001b[0;34m)\u001b[0m\u001b[0;34m\u001b[0m\u001b[0;34m\u001b[0m\u001b[0m\n\u001b[0m\u001b[1;32m    171\u001b[0m \u001b[0;34m\u001b[0m\u001b[0m\n\u001b[1;32m    172\u001b[0m     \u001b[0mtf_utils\u001b[0m\u001b[0;34m.\u001b[0m\u001b[0massert_no_legacy_layers\u001b[0m\u001b[0;34m(\u001b[0m\u001b[0mself\u001b[0m\u001b[0;34m.\u001b[0m\u001b[0mlayers\u001b[0m\u001b[0;34m)\u001b[0m\u001b[0;34m\u001b[0m\u001b[0;34m\u001b[0m\u001b[0m\n",
      "\u001b[0;32m/opt/conda/lib/python3.7/site-packages/tensorflow_core/python/training/tracking/base.py\u001b[0m in \u001b[0;36m_method_wrapper\u001b[0;34m(self, *args, **kwargs)\u001b[0m\n\u001b[1;32m    455\u001b[0m     \u001b[0mself\u001b[0m\u001b[0;34m.\u001b[0m\u001b[0m_self_setattr_tracking\u001b[0m \u001b[0;34m=\u001b[0m \u001b[0;32mFalse\u001b[0m  \u001b[0;31m# pylint: disable=protected-access\u001b[0m\u001b[0;34m\u001b[0m\u001b[0;34m\u001b[0m\u001b[0m\n\u001b[1;32m    456\u001b[0m     \u001b[0;32mtry\u001b[0m\u001b[0;34m:\u001b[0m\u001b[0;34m\u001b[0m\u001b[0;34m\u001b[0m\u001b[0m\n\u001b[0;32m--> 457\u001b[0;31m       \u001b[0mresult\u001b[0m \u001b[0;34m=\u001b[0m \u001b[0mmethod\u001b[0m\u001b[0;34m(\u001b[0m\u001b[0mself\u001b[0m\u001b[0;34m,\u001b[0m \u001b[0;34m*\u001b[0m\u001b[0margs\u001b[0m\u001b[0;34m,\u001b[0m \u001b[0;34m**\u001b[0m\u001b[0mkwargs\u001b[0m\u001b[0;34m)\u001b[0m\u001b[0;34m\u001b[0m\u001b[0;34m\u001b[0m\u001b[0m\n\u001b[0m\u001b[1;32m    458\u001b[0m     \u001b[0;32mfinally\u001b[0m\u001b[0;34m:\u001b[0m\u001b[0;34m\u001b[0m\u001b[0;34m\u001b[0m\u001b[0m\n\u001b[1;32m    459\u001b[0m       \u001b[0mself\u001b[0m\u001b[0;34m.\u001b[0m\u001b[0m_self_setattr_tracking\u001b[0m \u001b[0;34m=\u001b[0m \u001b[0mprevious_value\u001b[0m  \u001b[0;31m# pylint: disable=protected-access\u001b[0m\u001b[0;34m\u001b[0m\u001b[0;34m\u001b[0m\u001b[0m\n",
      "\u001b[0;32m/opt/conda/lib/python3.7/site-packages/tensorflow_core/python/keras/engine/network.py\u001b[0m in \u001b[0;36m_init_subclassed_network\u001b[0;34m(self, name, **kwargs)\u001b[0m\n\u001b[1;32m    376\u001b[0m   \u001b[0;34m@\u001b[0m\u001b[0mtrackable\u001b[0m\u001b[0;34m.\u001b[0m\u001b[0mno_automatic_dependency_tracking\u001b[0m\u001b[0;34m\u001b[0m\u001b[0;34m\u001b[0m\u001b[0m\n\u001b[1;32m    377\u001b[0m   \u001b[0;32mdef\u001b[0m \u001b[0m_init_subclassed_network\u001b[0m\u001b[0;34m(\u001b[0m\u001b[0mself\u001b[0m\u001b[0;34m,\u001b[0m \u001b[0mname\u001b[0m\u001b[0;34m=\u001b[0m\u001b[0;32mNone\u001b[0m\u001b[0;34m,\u001b[0m \u001b[0;34m**\u001b[0m\u001b[0mkwargs\u001b[0m\u001b[0;34m)\u001b[0m\u001b[0;34m:\u001b[0m\u001b[0;34m\u001b[0m\u001b[0;34m\u001b[0m\u001b[0m\n\u001b[0;32m--> 378\u001b[0;31m     \u001b[0mself\u001b[0m\u001b[0;34m.\u001b[0m\u001b[0m_base_init\u001b[0m\u001b[0;34m(\u001b[0m\u001b[0mname\u001b[0m\u001b[0;34m=\u001b[0m\u001b[0mname\u001b[0m\u001b[0;34m,\u001b[0m \u001b[0;34m**\u001b[0m\u001b[0mkwargs\u001b[0m\u001b[0;34m)\u001b[0m\u001b[0;34m\u001b[0m\u001b[0;34m\u001b[0m\u001b[0m\n\u001b[0m\u001b[1;32m    379\u001b[0m     \u001b[0mself\u001b[0m\u001b[0;34m.\u001b[0m\u001b[0m_is_graph_network\u001b[0m \u001b[0;34m=\u001b[0m \u001b[0;32mFalse\u001b[0m\u001b[0;34m\u001b[0m\u001b[0;34m\u001b[0m\u001b[0m\n\u001b[1;32m    380\u001b[0m     \u001b[0mself\u001b[0m\u001b[0;34m.\u001b[0m\u001b[0m_init_call_fn_args\u001b[0m\u001b[0;34m(\u001b[0m\u001b[0;34m)\u001b[0m\u001b[0;34m\u001b[0m\u001b[0;34m\u001b[0m\u001b[0m\n",
      "\u001b[0;32m/opt/conda/lib/python3.7/site-packages/tensorflow_core/python/training/tracking/base.py\u001b[0m in \u001b[0;36m_method_wrapper\u001b[0;34m(self, *args, **kwargs)\u001b[0m\n\u001b[1;32m    455\u001b[0m     \u001b[0mself\u001b[0m\u001b[0;34m.\u001b[0m\u001b[0m_self_setattr_tracking\u001b[0m \u001b[0;34m=\u001b[0m \u001b[0;32mFalse\u001b[0m  \u001b[0;31m# pylint: disable=protected-access\u001b[0m\u001b[0;34m\u001b[0m\u001b[0;34m\u001b[0m\u001b[0m\n\u001b[1;32m    456\u001b[0m     \u001b[0;32mtry\u001b[0m\u001b[0;34m:\u001b[0m\u001b[0;34m\u001b[0m\u001b[0;34m\u001b[0m\u001b[0m\n\u001b[0;32m--> 457\u001b[0;31m       \u001b[0mresult\u001b[0m \u001b[0;34m=\u001b[0m \u001b[0mmethod\u001b[0m\u001b[0;34m(\u001b[0m\u001b[0mself\u001b[0m\u001b[0;34m,\u001b[0m \u001b[0;34m*\u001b[0m\u001b[0margs\u001b[0m\u001b[0;34m,\u001b[0m \u001b[0;34m**\u001b[0m\u001b[0mkwargs\u001b[0m\u001b[0;34m)\u001b[0m\u001b[0;34m\u001b[0m\u001b[0;34m\u001b[0m\u001b[0m\n\u001b[0m\u001b[1;32m    458\u001b[0m     \u001b[0;32mfinally\u001b[0m\u001b[0;34m:\u001b[0m\u001b[0;34m\u001b[0m\u001b[0;34m\u001b[0m\u001b[0m\n\u001b[1;32m    459\u001b[0m       \u001b[0mself\u001b[0m\u001b[0;34m.\u001b[0m\u001b[0m_self_setattr_tracking\u001b[0m \u001b[0;34m=\u001b[0m \u001b[0mprevious_value\u001b[0m  \u001b[0;31m# pylint: disable=protected-access\u001b[0m\u001b[0;34m\u001b[0m\u001b[0;34m\u001b[0m\u001b[0m\n",
      "\u001b[0;32m/opt/conda/lib/python3.7/site-packages/tensorflow_core/python/keras/engine/network.py\u001b[0m in \u001b[0;36m_base_init\u001b[0;34m(self, name, **kwargs)\u001b[0m\n\u001b[1;32m    195\u001b[0m \u001b[0;34m\u001b[0m\u001b[0m\n\u001b[1;32m    196\u001b[0m     generic_utils.validate_kwargs(kwargs, {'trainable', 'dtype', 'dynamic',\n\u001b[0;32m--> 197\u001b[0;31m                                            'autocast'})\n\u001b[0m\u001b[1;32m    198\u001b[0m \u001b[0;34m\u001b[0m\u001b[0m\n\u001b[1;32m    199\u001b[0m     \u001b[0;31m# Object to store all thread local layer properties.\u001b[0m\u001b[0;34m\u001b[0m\u001b[0;34m\u001b[0m\u001b[0;34m\u001b[0m\u001b[0m\n",
      "\u001b[0;32m/opt/conda/lib/python3.7/site-packages/tensorflow_core/python/keras/utils/generic_utils.py\u001b[0m in \u001b[0;36mvalidate_kwargs\u001b[0;34m(kwargs, allowed_kwargs, error_message)\u001b[0m\n\u001b[1;32m    597\u001b[0m   \u001b[0;32mfor\u001b[0m \u001b[0mkwarg\u001b[0m \u001b[0;32min\u001b[0m \u001b[0mkwargs\u001b[0m\u001b[0;34m:\u001b[0m\u001b[0;34m\u001b[0m\u001b[0;34m\u001b[0m\u001b[0m\n\u001b[1;32m    598\u001b[0m     \u001b[0;32mif\u001b[0m \u001b[0mkwarg\u001b[0m \u001b[0;32mnot\u001b[0m \u001b[0;32min\u001b[0m \u001b[0mallowed_kwargs\u001b[0m\u001b[0;34m:\u001b[0m\u001b[0;34m\u001b[0m\u001b[0;34m\u001b[0m\u001b[0m\n\u001b[0;32m--> 599\u001b[0;31m       \u001b[0;32mraise\u001b[0m \u001b[0mTypeError\u001b[0m\u001b[0;34m(\u001b[0m\u001b[0merror_message\u001b[0m\u001b[0;34m,\u001b[0m \u001b[0mkwarg\u001b[0m\u001b[0;34m)\u001b[0m\u001b[0;34m\u001b[0m\u001b[0;34m\u001b[0m\u001b[0m\n\u001b[0m",
      "\u001b[0;31mTypeError\u001b[0m: ('Keyword argument not understood:', 'inputs')"
     ]
    }
   ],
   "source": [
    "d = tf.keras.Model(inputs = d_g.layers[0].input, ouputs = d_g.layers[0].layers[-1])"
   ]
  },
  {
   "cell_type": "code",
   "execution_count": 73,
   "metadata": {},
   "outputs": [],
   "source": [
    "a = tf.keras.Sequential()"
   ]
  },
  {
   "cell_type": "code",
   "execution_count": 69,
   "metadata": {},
   "outputs": [],
   "source": [
    "a.add(g_model)"
   ]
  },
  {
   "cell_type": "code",
   "execution_count": 70,
   "metadata": {},
   "outputs": [],
   "source": [
    "a.add(d_model)"
   ]
  },
  {
   "cell_type": "code",
   "execution_count": 71,
   "metadata": {},
   "outputs": [
    {
     "name": "stdout",
     "output_type": "stream",
     "text": [
      "Model: \"sequential_2\"\n",
      "_________________________________________________________________\n",
      "Layer (type)                 Output Shape              Param #   \n",
      "=================================================================\n",
      "model_15 (Model)             (None, 28)                131841    \n",
      "_________________________________________________________________\n",
      "model_16 (Model)             (None, 1)                 42369     \n",
      "=================================================================\n",
      "Total params: 174,210\n",
      "Trainable params: 174,210\n",
      "Non-trainable params: 0\n",
      "_________________________________________________________________\n"
     ]
    }
   ],
   "source": [
    "a.summary()"
   ]
  },
  {
   "cell_type": "code",
   "execution_count": 66,
   "metadata": {},
   "outputs": [],
   "source": [
    "g_model = build_g()\n",
    "d_model = build_d()"
   ]
  },
  {
   "cell_type": "code",
   "execution_count": 49,
   "metadata": {},
   "outputs": [
    {
     "data": {
      "text/plain": [
       "<tensorflow.python.keras.engine.input_layer.InputLayer at 0x7f6498ee1510>"
      ]
     },
     "execution_count": 49,
     "metadata": {},
     "output_type": "execute_result"
    }
   ],
   "source": [
    "g_model.layers[0]"
   ]
  },
  {
   "cell_type": "code",
   "execution_count": 83,
   "metadata": {},
   "outputs": [],
   "source": [
    "a = AnoOCGAN(100)"
   ]
  },
  {
   "cell_type": "code",
   "execution_count": 85,
   "metadata": {},
   "outputs": [
    {
     "name": "stdout",
     "output_type": "stream",
     "text": [
      "Model: \"sequential_7\"\n",
      "_________________________________________________________________\n",
      "Layer (type)                 Output Shape              Param #   \n",
      "=================================================================\n",
      "model_24 (Model)             (None, 28)                131841    \n",
      "_________________________________________________________________\n",
      "model_25 (Model)             (None, 1)                 42369     \n",
      "=================================================================\n",
      "Total params: 174,210\n",
      "Trainable params: 174,210\n",
      "Non-trainable params: 0\n",
      "_________________________________________________________________\n"
     ]
    }
   ],
   "source": [
    "a.build_d_and_g().summary()"
   ]
  },
  {
   "cell_type": "code",
   "execution_count": 25,
   "metadata": {},
   "outputs": [],
   "source": [
    "inputs = tf.keras.Input(100, name=\"g_input\")\n",
    "dense1 = tf.keras.layers.Dense(896,kernel_initializer=tf.keras.initializers.RandomNormal(stddev=0.02))(inputs)\n",
    "lrelu1 = tf.keras.layers.LeakyReLU(0.2)(dense1)\n",
    "reshape1 = tf.keras.layers.Reshape((7,128))(lrelu1)\n",
    "upsampling1 = tf.keras.layers.UpSampling1D(size=2)(reshape1)\n",
    "conv1 = tf.keras.layers.Conv1D(64,5, padding=\"same\")(upsampling1)\n",
    "lrelu2 = tf.keras.layers.LeakyReLU(0.2)(conv1)\n",
    "upsampling2 = tf.keras.layers.UpSampling1D(size=2)(lrelu2)\n",
    "conv2 = tf.keras.layers.Conv1D(1, 5, padding=\"same\")(upsampling2)\n",
    "flat = tf.keras.layers.Flatten()(conv2)"
   ]
  },
  {
   "cell_type": "code",
   "execution_count": null,
   "metadata": {},
   "outputs": [],
   "source": []
  },
  {
   "cell_type": "code",
   "execution_count": 26,
   "metadata": {},
   "outputs": [
    {
     "data": {
      "text/plain": [
       "<bound method Tensor.get_shape of <tf.Tensor 'flatten/Identity:0' shape=(None, 28) dtype=float32>>"
      ]
     },
     "execution_count": 26,
     "metadata": {},
     "output_type": "execute_result"
    }
   ],
   "source": [
    "flat.get_shape"
   ]
  },
  {
   "cell_type": "code",
   "execution_count": 24,
   "metadata": {},
   "outputs": [],
   "source": [
    "model = tf.keras.Model(inputs = inputs, outputs = conv2)"
   ]
  },
  {
   "cell_type": "code",
   "execution_count": 23,
   "metadata": {},
   "outputs": [
    {
     "data": {
      "text/plain": [
       "<bound method Tensor.get_shape of <tf.Tensor 'conv1d_10/Identity:0' shape=(None, 28, 1) dtype=float32>>"
      ]
     },
     "execution_count": 23,
     "metadata": {},
     "output_type": "execute_result"
    }
   ],
   "source": [
    "conv2.get_shape"
   ]
  },
  {
   "cell_type": "code",
   "execution_count": 13,
   "metadata": {},
   "outputs": [
    {
     "data": {
      "text/plain": [
       "<bound method Tensor.get_shape of <tf.Tensor 'up_sampling1d_1/Identity:0' shape=(None, 14, 128) dtype=float32>>"
      ]
     },
     "execution_count": 13,
     "metadata": {},
     "output_type": "execute_result"
    }
   ],
   "source": [
    "upsampling1.get_shape"
   ]
  },
  {
   "cell_type": "code",
   "execution_count": null,
   "metadata": {},
   "outputs": [],
   "source": []
  }
 ],
 "metadata": {
  "kernelspec": {
   "display_name": "Python 3",
   "language": "python",
   "name": "python3"
  },
  "language_info": {
   "codemirror_mode": {
    "name": "ipython",
    "version": 3
   },
   "file_extension": ".py",
   "mimetype": "text/x-python",
   "name": "python",
   "nbconvert_exporter": "python",
   "pygments_lexer": "ipython3",
   "version": "3.7.4"
  }
 },
 "nbformat": 4,
 "nbformat_minor": 4
}
